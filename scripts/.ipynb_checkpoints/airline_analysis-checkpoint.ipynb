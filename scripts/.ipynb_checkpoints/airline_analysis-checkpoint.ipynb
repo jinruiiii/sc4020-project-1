{
 "cells": [
  {
   "cell_type": "code",
   "execution_count": 1,
   "id": "4ae6d582-f84c-411c-89be-b544089ed6ad",
   "metadata": {},
   "outputs": [
    {
     "name": "stderr",
     "output_type": "stream",
     "text": [
      "C:\\Users\\shrey\\anaconda3\\envs\\SC4020\\lib\\site-packages\\tqdm\\auto.py:21: TqdmWarning: IProgress not found. Please update jupyter and ipywidgets. See https://ipywidgets.readthedocs.io/en/stable/user_install.html\n",
      "  from .autonotebook import tqdm as notebook_tqdm\n"
     ]
    }
   ],
   "source": [
    "import sys\n",
    "sys.path.append(\"..\")\n",
    "import os\n",
    "from utils.load_data import load_parquet, load_index, load_csv\n",
    "from utils.evaultation.generator import Generator\n",
    "from algo.LSHAlgo import LSH\n",
    "import json\n",
    "import matplotlib.pyplot as plt\n",
    "import numpy as np\n",
    "import pandas as pd\n",
    "from sklearn.metrics import ndcg_score, dcg_score\n",
    "import math"
   ]
  },
  {
   "cell_type": "code",
   "execution_count": 2,
   "id": "7d885a91-c77a-4134-bd8f-1ab5d1bc650b",
   "metadata": {},
   "outputs": [
    {
     "name": "stdout",
     "output_type": "stream",
     "text": [
      "Number of queries: 32\n",
      "Top K: 31\n"
     ]
    },
    {
     "data": {
      "text/html": [
       "<div>\n",
       "<style scoped>\n",
       "    .dataframe tbody tr th:only-of-type {\n",
       "        vertical-align: middle;\n",
       "    }\n",
       "\n",
       "    .dataframe tbody tr th {\n",
       "        vertical-align: top;\n",
       "    }\n",
       "\n",
       "    .dataframe thead th {\n",
       "        text-align: right;\n",
       "    }\n",
       "</style>\n",
       "<table border=\"1\" class=\"dataframe\">\n",
       "  <thead>\n",
       "    <tr style=\"text-align: right;\">\n",
       "      <th></th>\n",
       "      <th>question</th>\n",
       "      <th>top_k</th>\n",
       "      <th>time_taken</th>\n",
       "    </tr>\n",
       "  </thead>\n",
       "  <tbody>\n",
       "    <tr>\n",
       "      <th>0</th>\n",
       "      <td>Larnaca to London Heathrow, and wow, British A...</td>\n",
       "      <td>[London Heathrow to Austin with British Airway...</td>\n",
       "      <td>3289</td>\n",
       "    </tr>\n",
       "    <tr>\n",
       "      <th>1</th>\n",
       "      <td>LHR-SFO-LHR. Why do I keep thinking BA will im...</td>\n",
       "      <td>[London Heathrow to Austin with British Airway...</td>\n",
       "      <td>1417</td>\n",
       "    </tr>\n",
       "    <tr>\n",
       "      <th>2</th>\n",
       "      <td>British Airways from Gatwick to Catania, Sicil...</td>\n",
       "      <td>[Phoenix to Tel Aviv via London. The return fr...</td>\n",
       "      <td>585</td>\n",
       "    </tr>\n",
       "    <tr>\n",
       "      <th>3</th>\n",
       "      <td>British Airways - Travel with Confidence. Prob...</td>\n",
       "      <td>[London Heathrow to Austin with British Airway...</td>\n",
       "      <td>1005</td>\n",
       "    </tr>\n",
       "    <tr>\n",
       "      <th>4</th>\n",
       "      <td>What is happening to British Airways? Flew Van...</td>\n",
       "      <td>[London Heathrow to Austin with British Airway...</td>\n",
       "      <td>1127</td>\n",
       "    </tr>\n",
       "  </tbody>\n",
       "</table>\n",
       "</div>"
      ],
      "text/plain": [
       "                                            question  \\\n",
       "0  Larnaca to London Heathrow, and wow, British A...   \n",
       "1  LHR-SFO-LHR. Why do I keep thinking BA will im...   \n",
       "2  British Airways from Gatwick to Catania, Sicil...   \n",
       "3  British Airways - Travel with Confidence. Prob...   \n",
       "4  What is happening to British Airways? Flew Van...   \n",
       "\n",
       "                                               top_k  time_taken  \n",
       "0  [London Heathrow to Austin with British Airway...        3289  \n",
       "1  [London Heathrow to Austin with British Airway...        1417  \n",
       "2  [Phoenix to Tel Aviv via London. The return fr...         585  \n",
       "3  [London Heathrow to Austin with British Airway...        1005  \n",
       "4  [London Heathrow to Austin with British Airway...        1127  "
      ]
     },
     "execution_count": 2,
     "metadata": {},
     "output_type": "execute_result"
    }
   ],
   "source": [
    "ground_truth_path = os.path.abspath('../data/eval/gt/airline_vsm__type=gt.parquet')\n",
    "ground_truth = load_parquet(ground_truth_path)\n",
    "print(f\"Number of queries: {ground_truth.shape[0]}\")\n",
    "print(f\"Top K: {len(ground_truth['top_k'][0].tolist())}\")\n",
    "ground_truth.head()"
   ]
  },
  {
   "cell_type": "code",
   "execution_count": 3,
   "id": "b63a1044-4360-476d-8828-d08ec702ad6f",
   "metadata": {},
   "outputs": [],
   "source": [
    "top_k = 10\n",
    "runners = []\n",
    "nbits_config = [2,4,8,16,32,64,128,256,512,768]\n",
    "for nbits in nbits_config:\n",
    "    runners.append(lambda nbits=nbits: LSH(\"airline_reviews\", \"bge\", nbits))\n",
    "questions = ground_truth[\"question\"].tolist()\n"
   ]
  },
  {
   "cell_type": "code",
   "execution_count": 4,
   "id": "fc64853e-7e42-4624-b662-56878a8ee202",
   "metadata": {},
   "outputs": [
    {
     "name": "stdout",
     "output_type": "stream",
     "text": [
      "|████████████████████████████████████████| 320/320 [100%] in 5:22.4 (0.99/s) \n"
     ]
    }
   ],
   "source": [
    "generator = Generator(questions, top_k+1)\n",
    "generator.run(runners)"
   ]
  },
  {
   "cell_type": "code",
   "execution_count": 5,
   "id": "97363fae-07b3-415c-82d8-10f92c9d7bb1",
   "metadata": {},
   "outputs": [],
   "source": [
    "def remove_query_from_predictions(documents, query):\n",
    "    if query in documents:\n",
    "        index = documents.index(query)\n",
    "        documents.pop(index)\n",
    "    else:\n",
    "        documents.pop()\n",
    "    return documents"
   ]
  },
  {
   "cell_type": "markdown",
   "id": "577cd787-ee30-4523-9a89-a662242b8023",
   "metadata": {},
   "source": [
    "### Mean Precision@K"
   ]
  },
  {
   "cell_type": "code",
   "execution_count": 6,
   "id": "e35d038a-99fc-4123-a64f-e0005ef8b0ed",
   "metadata": {},
   "outputs": [],
   "source": [
    "output_folder_path = os.path.abspath('../data/eval/2024-09-15_20-33-12/')\n",
    "num_questions = ground_truth.shape[0]"
   ]
  },
  {
   "cell_type": "code",
   "execution_count": 13,
   "id": "fa6423e6-af6f-4de6-ae16-5277a74f7b43",
   "metadata": {},
   "outputs": [],
   "source": [
    "def get_mean_precision_k(k, num_relevant_docs):\n",
    "    mean_precision_scores = []\n",
    "    for nbits in nbits_config:\n",
    "        df = load_parquet(os.path.join(output_folder_path, f\"airline_reviews_lsh__embedding=bge_mode=lsh_similarity_nbits={nbits}.parquet\"))\n",
    "        precision_score = 0\n",
    "        for i in range(num_questions):\n",
    "            question = ground_truth[\"question\"][i]\n",
    "            set1 = set(ground_truth[\"top_k\"][i][1:num_relevant_docs+1])\n",
    "            set2 = set(remove_query_from_predictions(list(json.loads(df[\"top_k\"][i])[\"ReviewBody\"].values()), question)[0:k])\n",
    "            true_positive = len(set1.intersection(set2))\n",
    "            precision_score += true_positive/k\n",
    "        mean_precision_scores.append(precision_score/num_questions)\n",
    "    return mean_precision_scores"
   ]
  },
  {
   "cell_type": "markdown",
   "id": "1d66db17-7441-42db-820c-15a026933684",
   "metadata": {},
   "source": [
    "Mean Precision@3, Mean Precision@5, Mean Precision@10"
   ]
  },
  {
   "cell_type": "code",
   "execution_count": 14,
   "id": "ec066328-6a37-4351-bc9e-f261752f896f",
   "metadata": {},
   "outputs": [],
   "source": [
    "mean_precision_score_at_3 = get_mean_precision_k(3,10)\n",
    "mean_precision_score_at_5 = get_mean_precision_k(5,10)\n",
    "mean_precision_score_at_10 = get_mean_precision_k(10,10)"
   ]
  },
  {
   "cell_type": "code",
   "execution_count": 15,
   "id": "9b0d0d50-87c0-460f-85df-69e88107b1c4",
   "metadata": {},
   "outputs": [
    {
     "data": {
      "text/html": [
       "<div>\n",
       "<style scoped>\n",
       "    .dataframe tbody tr th:only-of-type {\n",
       "        vertical-align: middle;\n",
       "    }\n",
       "\n",
       "    .dataframe tbody tr th {\n",
       "        vertical-align: top;\n",
       "    }\n",
       "\n",
       "    .dataframe thead th {\n",
       "        text-align: right;\n",
       "    }\n",
       "</style>\n",
       "<table border=\"1\" class=\"dataframe\">\n",
       "  <thead>\n",
       "    <tr style=\"text-align: right;\">\n",
       "      <th></th>\n",
       "      <th>nbits_config</th>\n",
       "      <th>Mean Average Precision@3</th>\n",
       "      <th>Mean Average Precision@5</th>\n",
       "      <th>Mean Average Precision@10</th>\n",
       "    </tr>\n",
       "  </thead>\n",
       "  <tbody>\n",
       "    <tr>\n",
       "      <th>0</th>\n",
       "      <td>2</td>\n",
       "      <td>0.000000</td>\n",
       "      <td>0.00000</td>\n",
       "      <td>0.000000</td>\n",
       "    </tr>\n",
       "    <tr>\n",
       "      <th>1</th>\n",
       "      <td>4</td>\n",
       "      <td>0.000000</td>\n",
       "      <td>0.00000</td>\n",
       "      <td>0.009375</td>\n",
       "    </tr>\n",
       "    <tr>\n",
       "      <th>2</th>\n",
       "      <td>8</td>\n",
       "      <td>0.000000</td>\n",
       "      <td>0.01875</td>\n",
       "      <td>0.021875</td>\n",
       "    </tr>\n",
       "    <tr>\n",
       "      <th>3</th>\n",
       "      <td>16</td>\n",
       "      <td>0.062500</td>\n",
       "      <td>0.03750</td>\n",
       "      <td>0.034375</td>\n",
       "    </tr>\n",
       "    <tr>\n",
       "      <th>4</th>\n",
       "      <td>32</td>\n",
       "      <td>0.031250</td>\n",
       "      <td>0.02500</td>\n",
       "      <td>0.028125</td>\n",
       "    </tr>\n",
       "    <tr>\n",
       "      <th>5</th>\n",
       "      <td>64</td>\n",
       "      <td>0.135417</td>\n",
       "      <td>0.10000</td>\n",
       "      <td>0.084375</td>\n",
       "    </tr>\n",
       "    <tr>\n",
       "      <th>6</th>\n",
       "      <td>128</td>\n",
       "      <td>0.135417</td>\n",
       "      <td>0.12500</td>\n",
       "      <td>0.103125</td>\n",
       "    </tr>\n",
       "    <tr>\n",
       "      <th>7</th>\n",
       "      <td>256</td>\n",
       "      <td>0.239583</td>\n",
       "      <td>0.20625</td>\n",
       "      <td>0.162500</td>\n",
       "    </tr>\n",
       "    <tr>\n",
       "      <th>8</th>\n",
       "      <td>512</td>\n",
       "      <td>0.395833</td>\n",
       "      <td>0.33750</td>\n",
       "      <td>0.309375</td>\n",
       "    </tr>\n",
       "    <tr>\n",
       "      <th>9</th>\n",
       "      <td>768</td>\n",
       "      <td>0.583333</td>\n",
       "      <td>0.53125</td>\n",
       "      <td>0.418750</td>\n",
       "    </tr>\n",
       "  </tbody>\n",
       "</table>\n",
       "</div>"
      ],
      "text/plain": [
       "   nbits_config  Mean Average Precision@3  Mean Average Precision@5  \\\n",
       "0             2                  0.000000                   0.00000   \n",
       "1             4                  0.000000                   0.00000   \n",
       "2             8                  0.000000                   0.01875   \n",
       "3            16                  0.062500                   0.03750   \n",
       "4            32                  0.031250                   0.02500   \n",
       "5            64                  0.135417                   0.10000   \n",
       "6           128                  0.135417                   0.12500   \n",
       "7           256                  0.239583                   0.20625   \n",
       "8           512                  0.395833                   0.33750   \n",
       "9           768                  0.583333                   0.53125   \n",
       "\n",
       "   Mean Average Precision@10  \n",
       "0                   0.000000  \n",
       "1                   0.009375  \n",
       "2                   0.021875  \n",
       "3                   0.034375  \n",
       "4                   0.028125  \n",
       "5                   0.084375  \n",
       "6                   0.103125  \n",
       "7                   0.162500  \n",
       "8                   0.309375  \n",
       "9                   0.418750  "
      ]
     },
     "execution_count": 15,
     "metadata": {},
     "output_type": "execute_result"
    }
   ],
   "source": [
    "df = pd.DataFrame({\n",
    "    'nbits_config': nbits_config,\n",
    "    'Mean Average Precision@3': mean_precision_score_at_3,\n",
    "    'Mean Average Precision@5': mean_precision_score_at_5,\n",
    "    'Mean Average Precision@10': mean_precision_score_at_10\n",
    "})\n",
    "df"
   ]
  },
  {
   "cell_type": "code",
   "execution_count": 16,
   "id": "1cfde47b-8c62-416d-99d6-3c0a92cbc865",
   "metadata": {},
   "outputs": [
    {
     "data": {
      "image/png": "[encoded data removed]",
      "text/plain": [
       "<Figure size 640x480 with 1 Axes>"
      ]
     },
     "metadata": {},
     "output_type": "display_data"
    }
   ],
   "source": [
    "plt.plot(nbits_config, mean_precision_score_at_3, label=\"Mean Average Precision@3\")\n",
    "plt.plot(nbits_config, mean_precision_score_at_5, label=\"Mean Average Precision@5\")\n",
    "plt.plot(nbits_config, mean_precision_score_at_10, label=\"Mean Average Precision@10\")\n",
    "\n",
    "plt.xlabel(\"Number of Hash Functions\")\n",
    "plt.ylabel(\"Mean Precision Score\")\n",
    "\n",
    "plt.legend(bbox_to_anchor=(1.05, 1), loc=\"upper left\")\n",
    "plt.yticks(np.arange(0.1, 1, 0.1))\n",
    "plt.show()"
   ]
  },
  {
   "cell_type": "markdown",
   "id": "735be081-a5e8-452d-9343-f95b0e0c7be1",
   "metadata": {},
   "source": [
    "### Mean Reciprocal Rank@K"
   ]
  },
  {
   "cell_type": "code",
   "execution_count": 17,
   "id": "80a47cd5-aee7-4353-84b4-262e43cfaf05",
   "metadata": {},
   "outputs": [],
   "source": [
    "def get_reciprocal_rank(most_relevant_document, predictions):\n",
    "    try:\n",
    "        rank = predictions.index(most_relevant_document)+1\n",
    "        return 1.0/rank\n",
    "    except ValueError:\n",
    "        return 0.0"
   ]
  },
  {
   "cell_type": "code",
   "execution_count": 20,
   "id": "4cc17abd-c86c-4e92-8db1-16fe679919e1",
   "metadata": {},
   "outputs": [],
   "source": [
    "def get_mean_reciprocal_rank(k):\n",
    "    mean_reciprocal_ranks = []\n",
    "    for nbits  in nbits_config:\n",
    "        df = load_parquet(os.path.join(output_folder_path, f\"airline_reviews_lsh__embedding=bge_mode=lsh_similarity_nbits={nbits}.parquet\"))\n",
    "        reciprocal_rank = 0\n",
    "        for i in range(num_questions):\n",
    "            question = ground_truth[\"question\"][i]\n",
    "            most_relevant_document = ground_truth[\"top_k\"][i][1]\n",
    "            predictions = remove_query_from_predictions(list(json.loads(df[\"top_k\"][i])[\"ReviewBody\"].values()), question)[0:k]\n",
    "            reciprocal_rank += get_reciprocal_rank(most_relevant_document, predictions)\n",
    "        mean_reciprocal_ranks.append(reciprocal_rank/num_questions)\n",
    "    return mean_reciprocal_ranks"
   ]
  },
  {
   "cell_type": "code",
   "execution_count": 21,
   "id": "afb43a90-352f-4569-b22d-ebda9100791a",
   "metadata": {},
   "outputs": [],
   "source": [
    "mean_reciprocal_ranks_at_1 = get_mean_reciprocal_rank(1)\n",
    "mean_reciprocal_ranks_at_3 = get_mean_reciprocal_rank(3)\n",
    "mean_reciprocal_ranks_at_5 = get_mean_reciprocal_rank(5)\n",
    "mean_reciprocal_ranks_at_10 = get_mean_reciprocal_rank(10)"
   ]
  },
  {
   "cell_type": "code",
   "execution_count": 22,
   "id": "b8f03441-cb7d-4d98-9d67-bb5e0373a435",
   "metadata": {},
   "outputs": [
    {
     "data": {
      "text/html": [
       "<div>\n",
       "<style scoped>\n",
       "    .dataframe tbody tr th:only-of-type {\n",
       "        vertical-align: middle;\n",
       "    }\n",
       "\n",
       "    .dataframe tbody tr th {\n",
       "        vertical-align: top;\n",
       "    }\n",
       "\n",
       "    .dataframe thead th {\n",
       "        text-align: right;\n",
       "    }\n",
       "</style>\n",
       "<table border=\"1\" class=\"dataframe\">\n",
       "  <thead>\n",
       "    <tr style=\"text-align: right;\">\n",
       "      <th></th>\n",
       "      <th>nbits_config</th>\n",
       "      <th>Mean Reciprocal Rank@1</th>\n",
       "      <th>Mean Reciprocal Rank@3</th>\n",
       "      <th>Mean Reciprocal Rank@5</th>\n",
       "      <th>Mean Reciprocal Rank@10</th>\n",
       "    </tr>\n",
       "  </thead>\n",
       "  <tbody>\n",
       "    <tr>\n",
       "      <th>0</th>\n",
       "      <td>2</td>\n",
       "      <td>0.00000</td>\n",
       "      <td>0.000000</td>\n",
       "      <td>0.000000</td>\n",
       "      <td>0.000000</td>\n",
       "    </tr>\n",
       "    <tr>\n",
       "      <th>1</th>\n",
       "      <td>4</td>\n",
       "      <td>0.00000</td>\n",
       "      <td>0.000000</td>\n",
       "      <td>0.000000</td>\n",
       "      <td>0.000000</td>\n",
       "    </tr>\n",
       "    <tr>\n",
       "      <th>2</th>\n",
       "      <td>8</td>\n",
       "      <td>0.00000</td>\n",
       "      <td>0.000000</td>\n",
       "      <td>0.000000</td>\n",
       "      <td>0.000000</td>\n",
       "    </tr>\n",
       "    <tr>\n",
       "      <th>3</th>\n",
       "      <td>16</td>\n",
       "      <td>0.00000</td>\n",
       "      <td>0.015625</td>\n",
       "      <td>0.015625</td>\n",
       "      <td>0.015625</td>\n",
       "    </tr>\n",
       "    <tr>\n",
       "      <th>4</th>\n",
       "      <td>32</td>\n",
       "      <td>0.00000</td>\n",
       "      <td>0.000000</td>\n",
       "      <td>0.000000</td>\n",
       "      <td>0.003125</td>\n",
       "    </tr>\n",
       "    <tr>\n",
       "      <th>5</th>\n",
       "      <td>64</td>\n",
       "      <td>0.03125</td>\n",
       "      <td>0.031250</td>\n",
       "      <td>0.045312</td>\n",
       "      <td>0.054985</td>\n",
       "    </tr>\n",
       "    <tr>\n",
       "      <th>6</th>\n",
       "      <td>128</td>\n",
       "      <td>0.00000</td>\n",
       "      <td>0.015625</td>\n",
       "      <td>0.035937</td>\n",
       "      <td>0.035937</td>\n",
       "    </tr>\n",
       "    <tr>\n",
       "      <th>7</th>\n",
       "      <td>256</td>\n",
       "      <td>0.06250</td>\n",
       "      <td>0.093750</td>\n",
       "      <td>0.101562</td>\n",
       "      <td>0.110243</td>\n",
       "    </tr>\n",
       "    <tr>\n",
       "      <th>8</th>\n",
       "      <td>512</td>\n",
       "      <td>0.12500</td>\n",
       "      <td>0.229167</td>\n",
       "      <td>0.251042</td>\n",
       "      <td>0.297507</td>\n",
       "    </tr>\n",
       "    <tr>\n",
       "      <th>9</th>\n",
       "      <td>768</td>\n",
       "      <td>0.21875</td>\n",
       "      <td>0.328125</td>\n",
       "      <td>0.342188</td>\n",
       "      <td>0.373772</td>\n",
       "    </tr>\n",
       "  </tbody>\n",
       "</table>\n",
       "</div>"
      ],
      "text/plain": [
       "   nbits_config  Mean Reciprocal Rank@1  Mean Reciprocal Rank@3  \\\n",
       "0             2                 0.00000                0.000000   \n",
       "1             4                 0.00000                0.000000   \n",
       "2             8                 0.00000                0.000000   \n",
       "3            16                 0.00000                0.015625   \n",
       "4            32                 0.00000                0.000000   \n",
       "5            64                 0.03125                0.031250   \n",
       "6           128                 0.00000                0.015625   \n",
       "7           256                 0.06250                0.093750   \n",
       "8           512                 0.12500                0.229167   \n",
       "9           768                 0.21875                0.328125   \n",
       "\n",
       "   Mean Reciprocal Rank@5  Mean Reciprocal Rank@10  \n",
       "0                0.000000                 0.000000  \n",
       "1                0.000000                 0.000000  \n",
       "2                0.000000                 0.000000  \n",
       "3                0.015625                 0.015625  \n",
       "4                0.000000                 0.003125  \n",
       "5                0.045312                 0.054985  \n",
       "6                0.035937                 0.035937  \n",
       "7                0.101562                 0.110243  \n",
       "8                0.251042                 0.297507  \n",
       "9                0.342188                 0.373772  "
      ]
     },
     "execution_count": 22,
     "metadata": {},
     "output_type": "execute_result"
    }
   ],
   "source": [
    "df = pd.DataFrame({\n",
    "    'nbits_config': nbits_config,\n",
    "    'Mean Reciprocal Rank@1': mean_reciprocal_ranks_at_1,\n",
    "    'Mean Reciprocal Rank@3': mean_reciprocal_ranks_at_3,\n",
    "    'Mean Reciprocal Rank@5': mean_reciprocal_ranks_at_5,\n",
    "    'Mean Reciprocal Rank@10': mean_reciprocal_ranks_at_10\n",
    "})\n",
    "df"
   ]
  },
  {
   "cell_type": "code",
   "execution_count": 23,
   "id": "6a5c543b-38ce-47cc-acca-4ccbaa9af5e9",
   "metadata": {},
   "outputs": [
    {
     "data": {
      "image/png": "[encoded data removed]",
      "text/plain": [
       "<Figure size 640x480 with 1 Axes>"
      ]
     },
     "metadata": {},
     "output_type": "display_data"
    }
   ],
   "source": [
    "plt.plot(nbits_config, mean_reciprocal_ranks_at_1, label=\"Mean Reciprocal Rank@1\")\n",
    "plt.plot(nbits_config, mean_reciprocal_ranks_at_3, label=\"Mean Reciprocal Rank@3\")\n",
    "plt.plot(nbits_config, mean_reciprocal_ranks_at_5, label=\"Mean Reciprocal Rank@5\")\n",
    "plt.plot(nbits_config, mean_reciprocal_ranks_at_10, label=\"Mean Reciprocal Rank@10\")\n",
    "\n",
    "plt.xlabel(\"Number of Hash Functions\")\n",
    "plt.ylabel(\"Mean Reciprocal Rank\")\n",
    "\n",
    "plt.legend(bbox_to_anchor=(1.05, 1), loc=\"upper left\")\n",
    "plt.yticks(np.arange(0.1, 1, 0.1))\n",
    "plt.show()"
   ]
  },
  {
   "cell_type": "markdown",
   "id": "ae69baf6-349a-40c9-82cd-e41df7100c6f",
   "metadata": {},
   "source": [
    "### Mean Normalised Discounted Cumulative Gain@K"
   ]
  },
  {
   "cell_type": "code",
   "execution_count": 24,
   "id": "3163a43e-d466-47d4-936e-dd26fa080d3d",
   "metadata": {},
   "outputs": [],
   "source": [
    "def compute_relevance_scores(ground_truth, predictions):\n",
    "    relevance_map = {doc: len(ground_truth) - score for score, doc in enumerate(ground_truth)}\n",
    "    scores = [relevance_map.get(doc,0) for doc in predictions]\n",
    "    return scores"
   ]
  },
  {
   "cell_type": "code",
   "execution_count": null,
   "id": "d1ef0eb9-5dd7-4d63-b953-a50e9dfbea0b",
   "metadata": {},
   "outputs": [],
   "source": [
    "def get_mean_ndcg_k(k):\n",
    "    mean_ndcgs = []\n",
    "    for nbits in nbits_config:\n",
    "        df = load_parquet(os.path.join(output_folder_path, f\"airline_reviews_lsh__embedding=bge_mode=lsh_similarity_nbits={nbits}.parquet\"))\n",
    "        ndcg = 0\n",
    "        for i in range(num_questions):\n",
    "            question = ground_truth[\"question\"][i]\n",
    "            relevance_score = compute_relevance_scores(ground_truth[\"top_k\"][i][1:k+1], remove_query_from_predictions(list(json.loads(df[\"top_k\"][i])[\"ReviewBody\"].values()), question)[0:k])\n",
    "            true_relevance = list(range(k,0,-1)) \n",
    "            idcg = 0\n",
    "            dcg = 0\n",
    "            for i in range(len(relevance_score)):\n",
    "                # formula\n",
    "                idcg += true_relevance[i] / math.log(i+2,2)\n",
    "                dcg += relevance_score[i] / math.log(i+2,2)\n",
    "            ndcg += dcg/idcg\n",
    "        mean_ndcgs.append(ndcg/num_questions)\n",
    "    return mean_ndcgs"
   ]
  }
 ],
 "metadata": {
  "kernelspec": {
   "display_name": "4020",
   "language": "python",
   "name": "4020"
  },
  "language_info": {
   "codemirror_mode": {
    "name": "ipython",
    "version": 3
   },
   "file_extension": ".py",
   "mimetype": "text/x-python",
   "name": "python",
   "nbconvert_exporter": "python",
   "pygments_lexer": "ipython3",
   "version": "3.9.19"
  }
 },
 "nbformat": 4,
 "nbformat_minor": 5
}
