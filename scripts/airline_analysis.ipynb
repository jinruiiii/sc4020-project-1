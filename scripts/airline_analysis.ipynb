{
 "cells": [
  {
   "cell_type": "code",
   "execution_count": 1,
   "id": "4ae6d582-f84c-411c-89be-b544089ed6ad",
   "metadata": {},
   "outputs": [
    {
     "name": "stderr",
     "output_type": "stream",
     "text": [
      "C:\\Users\\shrey\\anaconda3\\envs\\SC4020\\lib\\site-packages\\tqdm\\auto.py:21: TqdmWarning: IProgress not found. Please update jupyter and ipywidgets. See https://ipywidgets.readthedocs.io/en/stable/user_install.html\n",
      "  from .autonotebook import tqdm as notebook_tqdm\n"
     ]
    }
   ],
   "source": [
    "import sys\n",
    "sys.path.append(\"..\")\n",
    "import os\n",
    "from utils.load_data import load_parquet, load_index, load_csv\n",
    "from utils.evaultation.generator import Generator\n",
    "from algo.LSHAlgo import LSH\n",
    "import json\n",
    "import matplotlib.pyplot as plt\n",
    "import numpy as np\n",
    "import pandas as pd\n",
    "from sklearn.metrics import ndcg_score, dcg_score\n",
    "import math"
   ]
  },
  {
   "cell_type": "code",
   "execution_count": 2,
   "id": "7d885a91-c77a-4134-bd8f-1ab5d1bc650b",
   "metadata": {},
   "outputs": [
    {
     "name": "stdout",
     "output_type": "stream",
     "text": [
      "Number of queries: 32\n",
      "Top K: 31\n"
     ]
    },
    {
     "data": {
      "text/html": [
       "<div>\n",
       "<style scoped>\n",
       "    .dataframe tbody tr th:only-of-type {\n",
       "        vertical-align: middle;\n",
       "    }\n",
       "\n",
       "    .dataframe tbody tr th {\n",
       "        vertical-align: top;\n",
       "    }\n",
       "\n",
       "    .dataframe thead th {\n",
       "        text-align: right;\n",
       "    }\n",
       "</style>\n",
       "<table border=\"1\" class=\"dataframe\">\n",
       "  <thead>\n",
       "    <tr style=\"text-align: right;\">\n",
       "      <th></th>\n",
       "      <th>question</th>\n",
       "      <th>top_k</th>\n",
       "      <th>time_taken</th>\n",
       "    </tr>\n",
       "  </thead>\n",
       "  <tbody>\n",
       "    <tr>\n",
       "      <th>0</th>\n",
       "      <td>Larnaca to London Heathrow, and wow, British A...</td>\n",
       "      <td>[London Heathrow to Austin with British Airway...</td>\n",
       "      <td>3289</td>\n",
       "    </tr>\n",
       "    <tr>\n",
       "      <th>1</th>\n",
       "      <td>LHR-SFO-LHR. Why do I keep thinking BA will im...</td>\n",
       "      <td>[London Heathrow to Austin with British Airway...</td>\n",
       "      <td>1417</td>\n",
       "    </tr>\n",
       "    <tr>\n",
       "      <th>2</th>\n",
       "      <td>British Airways from Gatwick to Catania, Sicil...</td>\n",
       "      <td>[Phoenix to Tel Aviv via London. The return fr...</td>\n",
       "      <td>585</td>\n",
       "    </tr>\n",
       "    <tr>\n",
       "      <th>3</th>\n",
       "      <td>British Airways - Travel with Confidence. Prob...</td>\n",
       "      <td>[London Heathrow to Austin with British Airway...</td>\n",
       "      <td>1005</td>\n",
       "    </tr>\n",
       "    <tr>\n",
       "      <th>4</th>\n",
       "      <td>What is happening to British Airways? Flew Van...</td>\n",
       "      <td>[London Heathrow to Austin with British Airway...</td>\n",
       "      <td>1127</td>\n",
       "    </tr>\n",
       "  </tbody>\n",
       "</table>\n",
       "</div>"
      ],
      "text/plain": [
       "                                            question  \\\n",
       "0  Larnaca to London Heathrow, and wow, British A...   \n",
       "1  LHR-SFO-LHR. Why do I keep thinking BA will im...   \n",
       "2  British Airways from Gatwick to Catania, Sicil...   \n",
       "3  British Airways - Travel with Confidence. Prob...   \n",
       "4  What is happening to British Airways? Flew Van...   \n",
       "\n",
       "                                               top_k  time_taken  \n",
       "0  [London Heathrow to Austin with British Airway...        3289  \n",
       "1  [London Heathrow to Austin with British Airway...        1417  \n",
       "2  [Phoenix to Tel Aviv via London. The return fr...         585  \n",
       "3  [London Heathrow to Austin with British Airway...        1005  \n",
       "4  [London Heathrow to Austin with British Airway...        1127  "
      ]
     },
     "execution_count": 2,
     "metadata": {},
     "output_type": "execute_result"
    }
   ],
   "source": [
    "ground_truth_path = os.path.abspath('../data/eval/gt/airline_vsm__type=gt.parquet')\n",
    "ground_truth = load_parquet(ground_truth_path)\n",
    "print(f\"Number of queries: {ground_truth.shape[0]}\")\n",
    "print(f\"Top K: {len(ground_truth['top_k'][0].tolist())}\")\n",
    "ground_truth.head()"
   ]
  },
  {
   "cell_type": "code",
   "execution_count": null,
   "id": "b63a1044-4360-476d-8828-d08ec702ad6f",
   "metadata": {},
   "outputs": [],
   "source": []
  }
 ],
 "metadata": {
  "kernelspec": {
   "display_name": "4020",
   "language": "python",
   "name": "4020"
  },
  "language_info": {
   "codemirror_mode": {
    "name": "ipython",
    "version": 3
   },
   "file_extension": ".py",
   "mimetype": "text/x-python",
   "name": "python",
   "nbconvert_exporter": "python",
   "pygments_lexer": "ipython3",
   "version": "3.9.19"
  }
 },
 "nbformat": 4,
 "nbformat_minor": 5
}
